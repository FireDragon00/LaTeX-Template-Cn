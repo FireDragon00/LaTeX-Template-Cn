{
  "cells": [
    {
      "cell_type": "markdown",
      "metadata": {
        "id": "view-in-github",
        "colab_type": "text"
      },
      "source": [
        "<a href=\"https://colab.research.google.com/github/FireDragon00/LaTeX-Template-Cn/blob/master/5_4%E6%95%B4%E5%9B%BE%E5%88%86%E7%B1%BB_%E6%94%B9GAT.ipynb\" target=\"_parent\"><img src=\"https://colab.research.google.com/assets/colab-badge.svg\" alt=\"Open In Colab\"/></a>"
      ]
    },
    {
      "cell_type": "code",
      "execution_count": 2,
      "metadata": {
        "colab": {
          "base_uri": "https://localhost:8080/"
        },
        "id": "AzZ7jUDjSNEh",
        "outputId": "3a8ffe43-4c41-4af9-92de-1e1763ad4d7d"
      },
      "outputs": [
        {
          "output_type": "stream",
          "name": "stdout",
          "text": [
            "Collecting dgl\n",
            "  Downloading dgl-0.6.1-cp37-cp37m-manylinux1_x86_64.whl (4.4 MB)\n",
            "\u001b[K     |████████████████████████████████| 4.4 MB 3.8 MB/s \n",
            "\u001b[?25hRequirement already satisfied: requests>=2.19.0 in /usr/local/lib/python3.7/dist-packages (from dgl) (2.23.0)\n",
            "Requirement already satisfied: scipy>=1.1.0 in /usr/local/lib/python3.7/dist-packages (from dgl) (1.4.1)\n",
            "Requirement already satisfied: networkx>=2.1 in /usr/local/lib/python3.7/dist-packages (from dgl) (2.6.3)\n",
            "Requirement already satisfied: numpy>=1.14.0 in /usr/local/lib/python3.7/dist-packages (from dgl) (1.21.5)\n",
            "Requirement already satisfied: idna<3,>=2.5 in /usr/local/lib/python3.7/dist-packages (from requests>=2.19.0->dgl) (2.10)\n",
            "Requirement already satisfied: certifi>=2017.4.17 in /usr/local/lib/python3.7/dist-packages (from requests>=2.19.0->dgl) (2021.10.8)\n",
            "Requirement already satisfied: urllib3!=1.25.0,!=1.25.1,<1.26,>=1.21.1 in /usr/local/lib/python3.7/dist-packages (from requests>=2.19.0->dgl) (1.24.3)\n",
            "Requirement already satisfied: chardet<4,>=3.0.2 in /usr/local/lib/python3.7/dist-packages (from requests>=2.19.0->dgl) (3.0.4)\n",
            "Installing collected packages: dgl\n",
            "Successfully installed dgl-0.6.1\n",
            "Requirement already satisfied: torch in /usr/local/lib/python3.7/dist-packages (1.10.0+cu111)\n",
            "Requirement already satisfied: typing-extensions in /usr/local/lib/python3.7/dist-packages (from torch) (3.10.0.2)\n"
          ]
        }
      ],
      "source": [
        "!pip install dgl\n",
        "!pip install torch"
      ]
    },
    {
      "cell_type": "markdown",
      "source": [
        "**创建一个神经网络**"
      ],
      "metadata": {
        "id": "GHJXxhUGQBCd"
      }
    },
    {
      "cell_type": "code",
      "execution_count": 3,
      "metadata": {
        "id": "oQYNnybQWPpw",
        "colab": {
          "base_uri": "https://localhost:8080/"
        },
        "outputId": "fe41b123-c496-485b-c112-8f8def582bd1"
      },
      "outputs": [
        {
          "output_type": "stream",
          "name": "stderr",
          "text": [
            "DGL backend not selected or invalid.  Assuming PyTorch for now.\n",
            "Using backend: pytorch\n"
          ]
        },
        {
          "output_type": "stream",
          "name": "stdout",
          "text": [
            "Setting the default backend to \"pytorch\". You can change it in the ~/.dgl/config.json file or export the DGLBACKEND environment variable.  Valid options are: pytorch, mxnet, tensorflow (all lowercase)\n"
          ]
        }
      ],
      "source": [
        "import dgl\n",
        "import torch\n",
        "import dgl.nn.pytorch as dglnn\n",
        "import torch.nn as nn\n",
        "from dgl.nn.pytorch.conv import GATConv\n",
        "from dgl.nn.pytorch.conv import DenseGraphConv\n",
        "from dgl.nn.pytorch.glob import SortPooling\n",
        "\n",
        "\n",
        "class Classifier(nn.Module):\n",
        "  def __init__(self, in_dim, hidden_dim, n_classes):\n",
        "    super(Classifier, self).__init__()\n",
        "    self.gat1 = GATConv(in_dim, hidden_dim, 5)\n",
        "    self.gat2 = GATConv(hidden_dim*5, hidden_dim, 5)\n",
        "    \n",
        "    #l2_out: torch.Size([3371, 5, 20])==>l2_flatten: torch.Size([3371, 100])\n",
        "    self.sortpooling = SortPooling(k=16)\n",
        "    #sortpool: torch.Size([188, 1600])\n",
        "    self.conv1D_1 = nn.Conv1d(1, 128, kernel_size=3)\n",
        "    self.maxpooling = nn.MaxPool1d(3)\n",
        "    self.conv1D_2 = nn.Conv1d(128, 256, kernel_size=2)\n",
        "    # self.dense2 = DenseGraphConv(512, 512, norm=True)\n",
        "    self.classify = nn.Linear(256*531, n_classes)\n",
        "\n",
        "  def forward(self, g, h):\n",
        "    # print('raw_shape:',h.size())\n",
        "    # 应用图卷积和激活函数\n",
        "    h = F.relu(self.gat1(g, h))\n",
        "    # print('l1_out:', h.size())\n",
        "    h = h.flatten(1)\n",
        "    # print('l1_flatten:', h.size())\n",
        "    h = F.relu(self.gat2(g, h))\n",
        "    # print('l2_out:', h.size())\n",
        "    h = h.flatten(1)\n",
        "    # print('l2_flatten:', h.size())\n",
        "    h = self.sortpooling(g, h)\n",
        "    # print('pool1:', h.size())\n",
        "    h = h.view(188, 1, 1600)\n",
        "    # print('view:', h.size())\n",
        "    h = self.conv1D_1(h)\n",
        "    # print('conv1:', h.size())\n",
        "    h = self.maxpooling(h)\n",
        "    # print('pool2:', h.size())\n",
        "    h = self.conv1D_2(h)\n",
        "    # print('conv2:', h.size())\n",
        "    h = F.relu(h.flatten(1))\n",
        "    h = F.dropout(h)\n",
        "    with g.local_scope():\n",
        "        return self.classify(h)"
      ]
    },
    {
      "cell_type": "markdown",
      "source": [
        "**下载数据集**"
      ],
      "metadata": {
        "id": "XFN6NLr4QP6f"
      }
    },
    {
      "cell_type": "code",
      "execution_count": 4,
      "metadata": {
        "colab": {
          "base_uri": "https://localhost:8080/"
        },
        "id": "aC7WJR2mWkcX",
        "outputId": "92433ff1-b8b2-46b2-c118-084a2afa5702"
      },
      "outputs": [
        {
          "output_type": "stream",
          "name": "stdout",
          "text": [
            "Downloading /root/.dgl/GINDataset.zip from https://raw.githubusercontent.com/weihua916/powerful-gnns/master/dataset.zip...\n",
            "Extracting file to /root/.dgl/GINDataset\n"
          ]
        }
      ],
      "source": [
        "import dgl.data\n",
        "dataset = dgl.data.GINDataset('MUTAG', False)"
      ]
    },
    {
      "cell_type": "code",
      "source": [
        "print(dataset[0])"
      ],
      "metadata": {
        "colab": {
          "base_uri": "https://localhost:8080/"
        },
        "id": "f87cE71EQL97",
        "outputId": "d75d71a9-4d12-42c0-b5d9-2de2e80dd7d4"
      },
      "execution_count": 5,
      "outputs": [
        {
          "output_type": "stream",
          "name": "stdout",
          "text": [
            "(Graph(num_nodes=23, num_edges=54,\n",
            "      ndata_schemes={'label': Scheme(shape=(), dtype=torch.int64), 'attr': Scheme(shape=(7,), dtype=torch.float32)}\n",
            "      edata_schemes={}), tensor(0))\n"
          ]
        }
      ]
    },
    {
      "cell_type": "markdown",
      "source": [
        "**批处理，加快训练速度**"
      ],
      "metadata": {
        "id": "PhfDsLifQUcg"
      }
    },
    {
      "cell_type": "code",
      "execution_count": 6,
      "metadata": {
        "id": "UFhAnzvXWokb"
      },
      "outputs": [],
      "source": [
        "from dgl.dataloading import GraphDataLoader\n",
        "dataloader = GraphDataLoader(\n",
        "  dataset,\n",
        "  batch_size=1024,\n",
        "  drop_last=False,\n",
        "  shuffle=True)\n"
      ]
    },
    {
      "cell_type": "markdown",
      "source": [
        "**训练神经网络**"
      ],
      "metadata": {
        "id": "WrPICOGTQdYD"
      }
    },
    {
      "cell_type": "code",
      "execution_count": 10,
      "metadata": {
        "colab": {
          "base_uri": "https://localhost:8080/"
        },
        "id": "LexRMkDpW9EE",
        "outputId": "c89ed58b-c019-48a0-f236-bdbd83e264c4"
      },
      "outputs": [
        {
          "output_type": "stream",
          "name": "stderr",
          "text": [
            "/usr/local/lib/python3.7/dist-packages/torch/autocast_mode.py:141: UserWarning: User provided device_type of 'cuda', but CUDA is not available. Disabling\n",
            "  warnings.warn('User provided device_type of \\'cuda\\', but CUDA is not available. Disabling')\n"
          ]
        },
        {
          "output_type": "stream",
          "name": "stdout",
          "text": [
            "Epoch 0, loss 0.8202\n",
            "Epoch 1, loss 0.3373\n",
            "Epoch 2, loss 2.2525\n",
            "Epoch 3, loss 1.0784\n",
            "Epoch 4, loss 0.6138\n",
            "Epoch 5, loss 0.5039\n",
            "Epoch 6, loss 0.3044\n",
            "Epoch 7, loss 0.3393\n",
            "Epoch 8, loss 0.3451\n",
            "Epoch 9, loss 0.3265\n",
            "Epoch 10, loss 0.3188\n",
            "Epoch 11, loss 0.3399\n",
            "Epoch 12, loss 0.3424\n",
            "Epoch 13, loss 0.3244\n",
            "Epoch 14, loss 0.3139\n",
            "Epoch 15, loss 0.3082\n",
            "Epoch 16, loss 0.2993\n",
            "Epoch 17, loss 0.2931\n",
            "Epoch 18, loss 0.2861\n",
            "Epoch 19, loss 0.2827\n",
            "Epoch 20, loss 0.2692\n",
            "Epoch 21, loss 0.2602\n",
            "Epoch 22, loss 0.2482\n",
            "Epoch 23, loss 0.2459\n",
            "Epoch 24, loss 0.2256\n",
            "Epoch 25, loss 0.2324\n",
            "Epoch 26, loss 0.2175\n",
            "Epoch 27, loss 0.2071\n",
            "Epoch 28, loss 0.2074\n",
            "Epoch 29, loss 0.1911\n",
            "Epoch 30, loss 0.1981\n",
            "Epoch 31, loss 0.1986\n",
            "Epoch 32, loss 0.2001\n",
            "Epoch 33, loss 0.2109\n",
            "Epoch 34, loss 0.1973\n",
            "Epoch 35, loss 0.2019\n",
            "Epoch 36, loss 0.2028\n",
            "Epoch 37, loss 0.2099\n",
            "Epoch 38, loss 0.2024\n",
            "Epoch 39, loss 0.1931\n",
            "Epoch 40, loss 0.2023\n",
            "Epoch 41, loss 0.1930\n",
            "Epoch 42, loss 0.1943\n",
            "Epoch 43, loss 0.1973\n",
            "Epoch 44, loss 0.1870\n",
            "Epoch 45, loss 0.1968\n",
            "Epoch 46, loss 0.1927\n",
            "Epoch 47, loss 0.1969\n",
            "Epoch 48, loss 0.1887\n",
            "Epoch 49, loss 0.1999\n"
          ]
        }
      ],
      "source": [
        "import torch.nn.functional as F\n",
        "\n",
        "# 这仅是个例子，特征尺寸是7\n",
        "model = Classifier(7, 20, 5)\n",
        "opt = torch.optim.Adam(model.parameters(), lr=0.001)\n",
        "model.train()\n",
        "\n",
        "epoch_losses = []\n",
        "for epoch in range(50):\n",
        "  epoch_loss = 0\n",
        "  i = 0\n",
        "  for batched_graph, labels in dataloader:\n",
        "      # print(labels)\n",
        "      feats = batched_graph.ndata['attr']\n",
        "      logits = model(batched_graph, feats)\n",
        "      # print(logits.size())\n",
        "      loss = F.cross_entropy(logits, labels)\n",
        "      opt.zero_grad()\n",
        "      loss.backward()\n",
        "      opt.step()\n",
        "      epoch_loss += loss.detach().item()\n",
        "      i += 1\n",
        "  epoch_loss /= (i+1)\n",
        "  print('Epoch {}, loss {:.4f}'.format(epoch, epoch_loss))\n",
        "  epoch_losses.append(epoch_loss)\n"
      ]
    },
    {
      "cell_type": "code",
      "source": [
        "!pip install matplotlib"
      ],
      "metadata": {
        "colab": {
          "base_uri": "https://localhost:8080/"
        },
        "id": "pCusONXhwtp7",
        "outputId": "857b4629-068e-4c8a-999a-8f8d908b67ea"
      },
      "execution_count": 8,
      "outputs": [
        {
          "output_type": "stream",
          "name": "stdout",
          "text": [
            "Requirement already satisfied: matplotlib in /usr/local/lib/python3.7/dist-packages (3.2.2)\n",
            "Requirement already satisfied: pyparsing!=2.0.4,!=2.1.2,!=2.1.6,>=2.0.1 in /usr/local/lib/python3.7/dist-packages (from matplotlib) (3.0.7)\n",
            "Requirement already satisfied: python-dateutil>=2.1 in /usr/local/lib/python3.7/dist-packages (from matplotlib) (2.8.2)\n",
            "Requirement already satisfied: numpy>=1.11 in /usr/local/lib/python3.7/dist-packages (from matplotlib) (1.21.5)\n",
            "Requirement already satisfied: kiwisolver>=1.0.1 in /usr/local/lib/python3.7/dist-packages (from matplotlib) (1.3.2)\n",
            "Requirement already satisfied: cycler>=0.10 in /usr/local/lib/python3.7/dist-packages (from matplotlib) (0.11.0)\n",
            "Requirement already satisfied: six>=1.5 in /usr/local/lib/python3.7/dist-packages (from python-dateutil>=2.1->matplotlib) (1.15.0)\n"
          ]
        }
      ]
    },
    {
      "cell_type": "code",
      "source": [
        "import matplotlib.pyplot as plt\n",
        "\n",
        "\n",
        "plt.xlabel(\"epoch\")\n",
        "plt.ylabel(\"loss\")\n",
        "x = list(range(len(epoch_losses)))\n",
        "# print(x)\n",
        "plt.plot(x,epoch_losses,linewidth=0.5,c='red')\n",
        "plt.show()"
      ],
      "metadata": {
        "colab": {
          "base_uri": "https://localhost:8080/",
          "height": 279
        },
        "id": "dwDgI_E_wqDl",
        "outputId": "f961fe7a-6ace-4c81-dad6-76149f9a9706"
      },
      "execution_count": 20,
      "outputs": [
        {
          "output_type": "display_data",
          "data": {
            "image/png": "[encoded data removed]",
            "text/plain": [
              "<Figure size 432x288 with 1 Axes>"
            ]
          },
          "metadata": {
            "needs_background": "light"
          }
        }
      ]
    },
    {
      "cell_type": "code",
      "execution_count": 17,
      "metadata": {
        "id": "pgrMpC2Pjmo2",
        "colab": {
          "base_uri": "https://localhost:8080/"
        },
        "outputId": "702a77e8-69e8-40f4-8547-e85ed2cf6ff9"
      },
      "outputs": [
        {
          "output_type": "stream",
          "name": "stdout",
          "text": [
            "Test accuracy of the model on the 10000 test batched_graph: 85.1063829787234 %\n"
          ]
        }
      ],
      "source": [
        "# Test the model\n",
        "model.eval()  # eval mode(batch norm uses moving mean/variance \n",
        "              #instead of mini-batch mean/variance)\n",
        "with torch.no_grad():\n",
        "    correct = 0\n",
        "    total = 0\n",
        "    for batched_graph, labels in dataloader:\n",
        "        feats = batched_graph.ndata['attr']\n",
        "        outputs = model(batched_graph, feats)\n",
        "        _, predicted = torch.max(outputs.data, 1)\n",
        "        total += labels.size(0)\n",
        "        correct += (predicted == labels).sum().item()\n",
        "\n",
        "    print('Test accuracy of the model on the 10000 test batched_graph: {} %'\n",
        "          .format(100 * correct / total))"
      ]
    }
  ],
  "metadata": {
    "colab": {
      "collapsed_sections": [],
      "name": "5.4整图分类_改GAT.ipynb",
      "provenance": [],
      "mount_file_id": "1sn1yFdefZCHMRaN1DVGCeb8w__ydDeRh",
      "authorship_tag": "ABX9TyOcXBpsKFeFaLNZxFPCkbbf",
      "include_colab_link": true
    },
    "kernelspec": {
      "display_name": "Python 3",
      "name": "python3"
    },
    "language_info": {
      "name": "python"
    }
  },
  "nbformat": 4,
  "nbformat_minor": 0
}