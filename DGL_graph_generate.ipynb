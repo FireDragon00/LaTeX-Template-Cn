{
  "cells": [
    {
      "cell_type": "markdown",
      "metadata": {
        "id": "view-in-github",
        "colab_type": "text"
      },
      "source": [
        "<a href=\"https://colab.research.google.com/github/FireDragon00/LaTeX-Template-Cn/blob/master/DGL_graph_generate.ipynb\" target=\"_parent\"><img src=\"https://colab.research.google.com/assets/colab-badge.svg\" alt=\"Open In Colab\"/></a>"
      ]
    },
    {
      "cell_type": "code",
      "execution_count": 1,
      "metadata": {
        "id": "qLDHiTpsW7e-",
        "colab": {
          "base_uri": "https://localhost:8080/"
        },
        "outputId": "b72d77e3-5dc3-4ac8-a362-d9dc35facbf7"
      },
      "outputs": [
        {
          "output_type": "stream",
          "name": "stdout",
          "text": [
            "Collecting dgl\n",
            "  Downloading dgl-0.6.1-cp37-cp37m-manylinux1_x86_64.whl (4.4 MB)\n",
            "\u001b[K     |████████████████████████████████| 4.4 MB 3.2 MB/s \n",
            "\u001b[?25hRequirement already satisfied: numpy>=1.14.0 in /usr/local/lib/python3.7/dist-packages (from dgl) (1.21.5)\n",
            "Requirement already satisfied: networkx>=2.1 in /usr/local/lib/python3.7/dist-packages (from dgl) (2.6.3)\n",
            "Requirement already satisfied: scipy>=1.1.0 in /usr/local/lib/python3.7/dist-packages (from dgl) (1.4.1)\n",
            "Requirement already satisfied: requests>=2.19.0 in /usr/local/lib/python3.7/dist-packages (from dgl) (2.23.0)\n",
            "Requirement already satisfied: certifi>=2017.4.17 in /usr/local/lib/python3.7/dist-packages (from requests>=2.19.0->dgl) (2021.10.8)\n",
            "Requirement already satisfied: urllib3!=1.25.0,!=1.25.1,<1.26,>=1.21.1 in /usr/local/lib/python3.7/dist-packages (from requests>=2.19.0->dgl) (1.24.3)\n",
            "Requirement already satisfied: idna<3,>=2.5 in /usr/local/lib/python3.7/dist-packages (from requests>=2.19.0->dgl) (2.10)\n",
            "Requirement already satisfied: chardet<4,>=3.0.2 in /usr/local/lib/python3.7/dist-packages (from requests>=2.19.0->dgl) (3.0.4)\n",
            "Installing collected packages: dgl\n",
            "Successfully installed dgl-0.6.1\n",
            "Requirement already satisfied: torch in /usr/local/lib/python3.7/dist-packages (1.10.0+cu111)\n",
            "Requirement already satisfied: typing-extensions in /usr/local/lib/python3.7/dist-packages (from torch) (3.10.0.2)\n"
          ]
        }
      ],
      "source": [
        "!pip install dgl\n",
        "!pip install torch"
      ]
    },
    {
      "cell_type": "markdown",
      "source": [
        "挂载谷歌硬盘"
      ],
      "metadata": {
        "id": "lNm-LUWpzp_H"
      }
    },
    {
      "cell_type": "code",
      "execution_count": 2,
      "metadata": {
        "colab": {
          "base_uri": "https://localhost:8080/"
        },
        "id": "3Nojh4q-XJrS",
        "outputId": "54169a71-7c2b-4f6f-81f0-729bebea600b"
      },
      "outputs": [
        {
          "output_type": "stream",
          "name": "stdout",
          "text": [
            "Mounted at /content/drive/\n"
          ]
        }
      ],
      "source": [
        "from google.colab import drive\n",
        "drive.mount('/content/drive/')"
      ]
    },
    {
      "cell_type": "markdown",
      "source": [
        "### 初始化参数"
      ],
      "metadata": {
        "id": "YqFfUeQMzlp7"
      }
    },
    {
      "cell_type": "code",
      "execution_count": 3,
      "metadata": {
        "id": "MkDKw1zwXMZ2"
      },
      "outputs": [],
      "source": [
        "root_path = '/content/drive/MyDrive/SAME'"
      ]
    },
    {
      "cell_type": "code",
      "execution_count": 4,
      "metadata": {
        "colab": {
          "base_uri": "https://localhost:8080/"
        },
        "id": "X85qP-yGXgvx",
        "outputId": "066c6d08-9957-450f-a413-29066c2a192c"
      },
      "outputs": [
        {
          "output_type": "stream",
          "name": "stdout",
          "text": [
            "Requirement already satisfied: pandas in /usr/local/lib/python3.7/dist-packages (1.3.5)\n",
            "Requirement already satisfied: python-dateutil>=2.7.3 in /usr/local/lib/python3.7/dist-packages (from pandas) (2.8.2)\n",
            "Requirement already satisfied: pytz>=2017.3 in /usr/local/lib/python3.7/dist-packages (from pandas) (2018.9)\n",
            "Requirement already satisfied: numpy>=1.17.3 in /usr/local/lib/python3.7/dist-packages (from pandas) (1.21.5)\n",
            "Requirement already satisfied: six>=1.5 in /usr/local/lib/python3.7/dist-packages (from python-dateutil>=2.7.3->pandas) (1.15.0)\n"
          ]
        },
        {
          "output_type": "stream",
          "name": "stderr",
          "text": [
            "DGL backend not selected or invalid.  Assuming PyTorch for now.\n"
          ]
        },
        {
          "output_type": "stream",
          "name": "stdout",
          "text": [
            "Setting the default backend to \"pytorch\". You can change it in the ~/.dgl/config.json file or export the DGLBACKEND environment variable.  Valid options are: pytorch, mxnet, tensorflow (all lowercase)\n"
          ]
        },
        {
          "output_type": "stream",
          "name": "stderr",
          "text": [
            "Using backend: pytorch\n"
          ]
        }
      ],
      "source": [
        "import pandas as pd\n",
        "!pip install pandas\n",
        "import dgl\n",
        "import os\n",
        "import torch\n",
        "import numpy as np\n",
        "\n",
        "N = 20\n",
        "t = 10\n",
        "k = 10  # the number of rows for the output tensor (k = 10, 20)\n",
        "T = 5\n",
        "overlap = 3  # note: overlap depends on T\n",
        "\n",
        "apps = ['diijam', 'myradio', 'spotify', 'nhaccuatui', 'soundcloud', 'sachnoiapp', 'truyenaudiosachnoiviet', 'voizfm', 'tunefm', 'radiofm']\n",
        "\n",
        "features = ['complete_max', 'complete_min', 'complete_mean', 'complete_mad', 'complete_std', 'complete_var',\n",
        "            'complete_skew',\n",
        "            'complete_kurt', 'complete_pkt_num', 'complete_10per', 'complete_20per', 'complete_30per', 'complete_40per',\n",
        "            'complete_50per',\n",
        "            'complete_60per', 'complete_70per', 'complete_80per', 'complete_90per', 'out_max', 'out_min', 'out_mean',\n",
        "            'out_mad', 'out_std',\n",
        "            'out_var', 'out_skew', 'out_kurt', 'out_pkt_num', 'out_10per', 'out_20per', 'out_30per', 'out_40per',\n",
        "            'out_50per', 'out_60per',\n",
        "            'out_70per', 'out_80per', 'out_90per', 'in_max', 'in_min', 'in_mean', 'in_mad', 'in_std', 'in_var',\n",
        "            'in_skew', 'in_kurt',\n",
        "            'in_pkt_num', 'in_10per', 'in_20per', 'in_30per', 'in_40per', 'in_50per', 'in_60per', 'in_70per',\n",
        "            'in_80per', 'in_90per']\n",
        "\n",
        "train_graphs_folder = os.path.join(root_path, '%d_%d/train_graphs/N%d/t%d' % (T, overlap, N, t))\n",
        "test_graphs_folder = os.path.join(root_path, '%d_%d/test_graphs/N%d/t%d' % (T, overlap, N, t))\n"
      ]
    },
    {
      "cell_type": "markdown",
      "metadata": {
        "id": "tnTIZEo2YsxU"
      },
      "source": [
        "### 加载某个app的所有图"
      ]
    },
    {
      "cell_type": "code",
      "execution_count": 5,
      "metadata": {
        "id": "GXMhaej1YruD"
      },
      "outputs": [],
      "source": [
        "'''\n",
        "Load graphs for one app\n",
        "Input: app and folder that contains graphs of the app\n",
        "Output: List of graphs (StellarGraph objects) and List of labels\n",
        "'''\n",
        "\n",
        "\n",
        "def graphs_one_app(app, graphs_folder):\n",
        "\tgraphs = []\n",
        "\n",
        "\tapp_graph_folder = os.path.join(graphs_folder, app)\n",
        "\tfeatures_path = os.path.join(app_graph_folder, 'features.csv')\n",
        "\tweights_path = os.path.join(app_graph_folder, 'weights.csv')\n",
        "\n",
        "\tfeatures_df = pd.read_csv(features_path, index_col=0)\n",
        "\tweights_df = pd.read_csv(weights_path, index_col=0)\n",
        "\n",
        "\tgraph_num = features_df['graph_id'].iloc[-1]\n",
        "\t# loop over all graphs of the app\n",
        "\tfor i in range(1, graph_num + 1):\n",
        "\t\tfeature_df = features_df[features_df['graph_id'] == i]\n",
        "\t\tfeature_df = feature_df[['IP_port'] + features + ['graph_id']]\n",
        "\t\tweight_df = weights_df[weights_df['graph_id'] == i]\n",
        "\n",
        "\t\t# drop graph_id column\n",
        "\t\tfeature_df = feature_df.drop(['graph_id'], axis=1)\n",
        "\t\tweight_df = weight_df.drop(['graph_id'], axis=1)\n",
        "\t\n",
        "\t\t# ip_port to node_id\n",
        "\t\tip_port = list(pd.concat([weight_df['source'], weight_df['target']]).value_counts().index)\n",
        "\t\tnode_id = [i for i in range(len(ip_port))]\n",
        "\n",
        "\t\tweight_df = weight_df.replace(ip_port,node_id)\n",
        "\t\tfeature_df = feature_df.replace(ip_port, node_id).sort_values(by=['IP_port']).set_index('IP_port')\n",
        "\t\n",
        "\t\t# .reset_index(drop=True)\n",
        "\n",
        "\n",
        "\t\tif weight_df.shape[0] > 0:\n",
        "\t\t\t\n",
        "\t\t\tu, v = torch.tensor(pd.concat([weight_df['source'],weight_df['target']]).values.astype('int32')),\\\n",
        "\t\t\ttorch.tensor(pd.concat([weight_df['target'],weight_df['source']]).values.astype('int32'))\n",
        "\t\t\t# print(u)\n",
        "\t\t\tg = dgl.graph((u, v))\n",
        "\t \n",
        "\t\t\tweights = torch.tensor(pd.concat([weight_df['weight'],weight_df['weight']]).values.astype('float32'))\n",
        "\t\t\tg.edata['w'] = weights\n",
        "\n",
        "\t\t\tfeats = torch.tensor(np.array(feature_df.values).astype('float32'))\n",
        "\t\t\tg.ndata['attr'] = feats\n",
        "\t\t\tgraphs.append(g)\n",
        "\t\t\t# print(g)\n",
        "\n",
        "\treturn graphs\n"
      ]
    },
    {
      "cell_type": "markdown",
      "source": [
        "### 加载所有app的图"
      ],
      "metadata": {
        "id": "z4BVrr5tTEMd"
      }
    },
    {
      "cell_type": "code",
      "source": [
        "'''\n",
        "Load all graphs\n",
        "Input: folder that contains graphs\n",
        "Output: List of graphs (StellarGraph objects), List of graph_labels (dummy values) and List of labels (names of app)\n",
        "'''\n",
        "\n",
        "\n",
        "def generate_graphs(graphs_folder):\n",
        "\t# build a list of graphs and labels: note that only apply for more than 2 classes\n",
        "\tli = []\n",
        "\tlabels = []\n",
        "\tidx = 0\n",
        "\n",
        "\tfor app in apps:\n",
        "\t\tidx += 1\n",
        "\t\tprint('Loading {} ... {}/{}'.format(app, idx, len(apps)))\n",
        "\n",
        "\t\tone_app_graphs = graphs_one_app(app, graphs_folder)\n",
        "\t\tprint(len(one_app_graphs))\n",
        "\t\tone_app_labels = [idx for _ in range(len(one_app_graphs))]\n",
        "\t\tprint(len(one_app_labels))\n",
        "\t\tli.extend(one_app_graphs)\n",
        "\t\tlabels.extend(one_app_labels)\n",
        "\n",
        "\tgraph_labels = labels\n",
        "\tgraphs = li\n",
        "\n",
        "\tprint('...............................................................')\n",
        "\n",
        "\treturn graphs, graph_labels\n"
      ],
      "metadata": {
        "id": "C8dBJewXTD6z"
      },
      "execution_count": 6,
      "outputs": []
    },
    {
      "cell_type": "markdown",
      "source": [
        "### 训练集和测试集"
      ],
      "metadata": {
        "id": "Aag37DmbTWIi"
      }
    },
    {
      "cell_type": "code",
      "source": [
        "train_graphs, train_graph_labels = generate_graphs(train_graphs_folder)\n",
        "test_graphs, test_graph_labels = generate_graphs(test_graphs_folder)\n",
        "train_size = len(train_graphs)"
      ],
      "metadata": {
        "colab": {
          "base_uri": "https://localhost:8080/"
        },
        "id": "TgCpt_2oUWUw",
        "outputId": "b4849c3f-e82c-4f07-9bec-94d1afa7748c"
      },
      "execution_count": 7,
      "outputs": [
        {
          "output_type": "stream",
          "name": "stdout",
          "text": [
            "Loading diijam ... 1/10\n",
            "406\n",
            "406\n",
            "Loading myradio ... 2/10\n",
            "586\n",
            "586\n",
            "Loading spotify ... 3/10\n",
            "866\n",
            "866\n",
            "Loading nhaccuatui ... 4/10\n",
            "1200\n",
            "1200\n",
            "Loading soundcloud ... 5/10\n",
            "818\n",
            "818\n",
            "Loading sachnoiapp ... 6/10\n",
            "660\n",
            "660\n",
            "Loading truyenaudiosachnoiviet ... 7/10\n",
            "275\n",
            "275\n",
            "Loading voizfm ... 8/10\n",
            "649\n",
            "649\n",
            "Loading tunefm ... 9/10\n",
            "360\n",
            "360\n",
            "Loading radiofm ... 10/10\n",
            "452\n",
            "452\n",
            "...............................................................\n",
            "Loading diijam ... 1/10\n",
            "109\n",
            "109\n",
            "Loading myradio ... 2/10\n",
            "147\n",
            "147\n",
            "Loading spotify ... 3/10\n",
            "218\n",
            "218\n",
            "Loading nhaccuatui ... 4/10\n",
            "300\n",
            "300\n",
            "Loading soundcloud ... 5/10\n",
            "209\n",
            "209\n",
            "Loading sachnoiapp ... 6/10\n",
            "167\n",
            "167\n",
            "Loading truyenaudiosachnoiviet ... 7/10\n",
            "60\n",
            "60\n",
            "Loading voizfm ... 8/10\n",
            "161\n",
            "161\n",
            "Loading tunefm ... 9/10\n",
            "85\n",
            "85\n",
            "Loading radiofm ... 10/10\n",
            "113\n",
            "113\n",
            "...............................................................\n"
          ]
        }
      ]
    },
    {
      "cell_type": "code",
      "source": [
        "print(len(train_graph_labels))\n",
        "print(len(test_graph_labels))"
      ],
      "metadata": {
        "colab": {
          "base_uri": "https://localhost:8080/"
        },
        "id": "TLQH61MgunB3",
        "outputId": "2e101c12-ebc0-49c7-d94d-ad7f6c8ef38d"
      },
      "execution_count": 8,
      "outputs": [
        {
          "output_type": "stream",
          "name": "stdout",
          "text": [
            "6272\n",
            "1569\n"
          ]
        }
      ]
    },
    {
      "cell_type": "markdown",
      "source": [
        "### 创建dataset类，方便训练"
      ],
      "metadata": {
        "id": "lhT_Uoo5x70X"
      }
    },
    {
      "cell_type": "code",
      "source": [
        "from dgl.data import DGLDataset\n",
        "\n",
        "class Traindataset(DGLDataset):\n",
        "  _url = 'http://deepchem.io.s3-website-us-west-1.amazonaws.com/datasets/qm7b.mat'\n",
        "  _sha1_str = '4102c744bb9d6fd7b40ac67a300e49cd87e28392'\n",
        "\n",
        "  def __init__(self, raw_dir=None, force_reload=False, verbose=False):\n",
        "    super().__init__(name='qm7b',\n",
        "            url=self._url,\n",
        "            raw_dir=raw_dir,\n",
        "            force_reload=force_reload,\n",
        "            verbose=verbose)\n",
        "\n",
        "  def process(self):\n",
        "    # 将数据处理为图列表和标签列表\n",
        "    self.graphs, self.label = train_graphs, torch.tensor(train_graph_labels)\n",
        "\n",
        "  def __getitem__(self, idx):\n",
        "    \"\"\" 通过idx获取对应的图和标签\n",
        "\n",
        "    Parameters\n",
        "    ----------\n",
        "    idx : int\n",
        "        Item index\n",
        "\n",
        "    Returns\n",
        "    -------\n",
        "    (dgl.DGLGraph, Tensor)\n",
        "    \"\"\"\n",
        "    return self.graphs[idx], self.label[idx]\n",
        "\n",
        "  def __len__(self):\n",
        "    \"\"\"数据集中图的数量\"\"\"\n",
        "    return len(self.graphs)\n",
        "  \n",
        "  @property\n",
        "  def num_labels(self):\n",
        "    return 10"
      ],
      "metadata": {
        "id": "9SrB2I6lx7cH"
      },
      "execution_count": 9,
      "outputs": []
    },
    {
      "cell_type": "markdown",
      "source": [
        "### GATmodel"
      ],
      "metadata": {
        "id": "hP9zny7JUqiU"
      }
    },
    {
      "cell_type": "code",
      "source": [
        "import dgl\n",
        "import torch\n",
        "import dgl.nn.pytorch as dglnn\n",
        "import torch.nn as nn\n",
        "from dgl.nn.pytorch.conv import GATConv\n",
        "from dgl.nn.pytorch.conv import DenseGraphConv\n",
        "from dgl.nn.pytorch.glob import SortPooling\n",
        "import torch.nn.functional as F\n",
        "\n",
        "\n",
        "class Classifier(nn.Module):\n",
        "  def __init__(self, in_dim, hidden_dim, n_classes, batch_size, num_graph):\n",
        "    super(Classifier, self).__init__()\n",
        "    self.batch_size = batch_size\n",
        "    self.num_graph = num_graph\n",
        "    self.gat1 = GATConv(in_dim, hidden_dim, 5)\n",
        "    self.gat2 = GATConv(hidden_dim*5, hidden_dim, 5)\n",
        "    \n",
        "    #l2_out: torch.Size([3371, 5, 20])==>l2_flatten: torch.Size([3371, 100])\n",
        "    self.sortpooling = SortPooling(k=16)\n",
        "    #sortpool: torch.Size([1024, 1600])\n",
        "    self.conv1D_1 = nn.Conv1d(1, 128, kernel_size=3)\n",
        "    self.maxpooling = nn.MaxPool1d(3)\n",
        "    self.conv1D_2 = nn.Conv1d(128, 256, kernel_size=2)\n",
        "    self.classify = nn.Linear(256*531, n_classes)\n",
        "\n",
        "  def forward(self, g, h):\n",
        "    # print('raw_shape:',h.size())\n",
        "    # GATConv\n",
        "    h = F.relu(self.gat1(g, h))\n",
        "    # print('l1_out:', h.size())\n",
        "    h = h.flatten(1)\n",
        "    # print('l1_flatten:', h.size())\n",
        "    h = F.relu(self.gat2(g, h))\n",
        "    # print('l2_out:', h.size())\n",
        "    h = h.flatten(1)\n",
        "    # print('l2_flatten:', h.size())\n",
        "\n",
        "    # sortpool——图池化\n",
        "    h = self.sortpooling(g, h)\n",
        "    # print('pool1:', h.size())\n",
        "    try:\n",
        "      h = h.view(1024, 1, 1600)\n",
        "    except:\n",
        "      x = self.num_graph % self.batch_size\n",
        "      h = h.view(x , 1, 1600)\n",
        "    # print('view:', h.size())\n",
        "    h = self.conv1D_1(h)\n",
        "    # print('conv1:', h.size())\n",
        "    h = self.maxpooling(h)\n",
        "    # print('pool2:', h.size())\n",
        "    h = self.conv1D_2(h)\n",
        "    # print('conv2:', h.size())\n",
        "    h = F.relu(h.flatten(1))\n",
        "    h = F.dropout(h)\n",
        "    with g.local_scope():\n",
        "        return self.classify(h)"
      ],
      "metadata": {
        "id": "Fqrax6PYUpDV"
      },
      "execution_count": 22,
      "outputs": []
    },
    {
      "cell_type": "code",
      "source": [
        "from dgl.dataloading import GraphDataLoader\n",
        "\n",
        "dataset = Traindataset()\n",
        "dataloader = GraphDataLoader(\n",
        "  dataset,\n",
        "  batch_size=1024,\n",
        "  drop_last=False,\n",
        "  shuffle=True)\n",
        "print(dataset[0])"
      ],
      "metadata": {
        "colab": {
          "base_uri": "https://localhost:8080/"
        },
        "id": "6BGZwqP0U7iY",
        "outputId": "ba3a6de7-4a6c-4bfd-dc09-d7628514889b"
      },
      "execution_count": 11,
      "outputs": [
        {
          "output_type": "stream",
          "name": "stdout",
          "text": [
            "(Graph(num_nodes=9, num_edges=72,\n",
            "      ndata_schemes={'attr': Scheme(shape=(54,), dtype=torch.float32)}\n",
            "      edata_schemes={'w': Scheme(shape=(), dtype=torch.float32)}), tensor(1))\n"
          ]
        }
      ]
    },
    {
      "cell_type": "code",
      "source": [
        "model = Classifier(54, 20, 11, 1024, 6272)\n",
        "opt = torch.optim.Adam(model.parameters(), lr=0.001)\n",
        "model.train()\n",
        "\n",
        "epoch_losses = []\n",
        "for epoch in range(50):\n",
        "  epoch_loss = 0\n",
        "  i = 0\n",
        "  for batched_graph, labels in dataloader:\n",
        "      feats = batched_graph.ndata['attr']\n",
        "      logits = model(batched_graph, feats)\n",
        "      # print(logits.size())\n",
        "      loss = F.cross_entropy(logits, labels)\n",
        "      opt.zero_grad()\n",
        "      loss.backward()\n",
        "      opt.step()\n",
        "      epoch_loss += loss.detach().item()\n",
        "      i += 1\n",
        "  epoch_loss /= (i+1)\n",
        "  print('Epoch {}, loss {:.4f}'.format(epoch, epoch_loss))\n",
        "  epoch_losses.append(epoch_loss)\n"
      ],
      "metadata": {
        "colab": {
          "base_uri": "https://localhost:8080/"
        },
        "id": "R_g16aOYVVNv",
        "outputId": "d4dd9c87-9f41-4f5d-9d14-58a7f8893ca4"
      },
      "execution_count": 26,
      "outputs": [
        {
          "output_type": "stream",
          "name": "stdout",
          "text": [
            "Epoch 0, loss 3.7414\n",
            "Epoch 1, loss 1.8500\n",
            "Epoch 2, loss 1.5953\n",
            "Epoch 3, loss 1.3697\n",
            "Epoch 4, loss 1.1792\n",
            "Epoch 5, loss 1.0091\n",
            "Epoch 6, loss 0.8517\n",
            "Epoch 7, loss 0.7682\n",
            "Epoch 8, loss 0.7057\n",
            "Epoch 9, loss 0.6575\n",
            "Epoch 10, loss 0.5909\n",
            "Epoch 11, loss 0.5458\n",
            "Epoch 12, loss 0.5127\n",
            "Epoch 13, loss 0.4552\n",
            "Epoch 14, loss 0.4417\n",
            "Epoch 15, loss 0.4219\n",
            "Epoch 16, loss 0.3826\n",
            "Epoch 17, loss 0.3859\n",
            "Epoch 18, loss 0.3685\n",
            "Epoch 19, loss 0.3414\n",
            "Epoch 20, loss 0.3335\n",
            "Epoch 21, loss 0.2979\n",
            "Epoch 22, loss 0.2964\n",
            "Epoch 23, loss 0.2929\n",
            "Epoch 24, loss 0.2812\n",
            "Epoch 25, loss 0.2724\n",
            "Epoch 26, loss 0.2591\n",
            "Epoch 27, loss 0.2389\n",
            "Epoch 28, loss 0.2256\n",
            "Epoch 29, loss 0.2332\n",
            "Epoch 30, loss 0.2121\n",
            "Epoch 31, loss 0.2048\n",
            "Epoch 32, loss 0.1892\n",
            "Epoch 33, loss 0.1918\n",
            "Epoch 34, loss 0.1865\n",
            "Epoch 35, loss 0.1779\n",
            "Epoch 36, loss 0.1736\n",
            "Epoch 37, loss 0.1724\n",
            "Epoch 38, loss 0.1719\n",
            "Epoch 39, loss 0.1409\n",
            "Epoch 40, loss 0.1770\n",
            "Epoch 41, loss 0.1687\n",
            "Epoch 42, loss 0.1673\n",
            "Epoch 43, loss 0.1593\n",
            "Epoch 44, loss 0.1392\n",
            "Epoch 45, loss 0.1335\n",
            "Epoch 46, loss 0.1419\n",
            "Epoch 47, loss 0.1609\n",
            "Epoch 48, loss 0.1212\n",
            "Epoch 49, loss 0.1204\n"
          ]
        }
      ]
    },
    {
      "cell_type": "markdown",
      "source": [
        "损失曲线"
      ],
      "metadata": {
        "id": "cYUpke5JrjIu"
      }
    },
    {
      "cell_type": "code",
      "source": [
        "import matplotlib.pyplot as plt\n",
        "!pip install matplotlib\n",
        "\n",
        "\n",
        "plt.xlabel(\"epoch\")\n",
        "plt.ylabel(\"loss\")#\n",
        "plt.plot(epoch_losses)\n",
        "plt.show()"
      ],
      "metadata": {
        "colab": {
          "base_uri": "https://localhost:8080/",
          "height": 401
        },
        "id": "5NY-Vj6Eq5iP",
        "outputId": "12b9c7b4-e32d-45a1-d673-5a295b489fa5"
      },
      "execution_count": 27,
      "outputs": [
        {
          "output_type": "stream",
          "name": "stdout",
          "text": [
            "Requirement already satisfied: matplotlib in /usr/local/lib/python3.7/dist-packages (3.2.2)\n",
            "Requirement already satisfied: pyparsing!=2.0.4,!=2.1.2,!=2.1.6,>=2.0.1 in /usr/local/lib/python3.7/dist-packages (from matplotlib) (3.0.7)\n",
            "Requirement already satisfied: kiwisolver>=1.0.1 in /usr/local/lib/python3.7/dist-packages (from matplotlib) (1.3.2)\n",
            "Requirement already satisfied: cycler>=0.10 in /usr/local/lib/python3.7/dist-packages (from matplotlib) (0.11.0)\n",
            "Requirement already satisfied: python-dateutil>=2.1 in /usr/local/lib/python3.7/dist-packages (from matplotlib) (2.8.2)\n",
            "Requirement already satisfied: numpy>=1.11 in /usr/local/lib/python3.7/dist-packages (from matplotlib) (1.21.5)\n",
            "Requirement already satisfied: six>=1.5 in /usr/local/lib/python3.7/dist-packages (from python-dateutil>=2.1->matplotlib) (1.15.0)\n"
          ]
        },
        {
          "output_type": "display_data",
          "data": {
            "image/png": "[encoded data removed]",
            "text/plain": [
              "<Figure size 432x288 with 1 Axes>"
            ]
          },
          "metadata": {
            "needs_background": "light"
          }
        }
      ]
    },
    {
      "cell_type": "code",
      "source": [
        "# Test the model\n",
        "model.eval()\n",
        "\n",
        "with torch.no_grad():\n",
        "    correct = 0\n",
        "    total = 0\n",
        "    for batched_graph, labels in dataloader:\n",
        "        feats = batched_graph.ndata['attr']\n",
        "        outputs = model(batched_graph, feats)\n",
        "        _, predicted = torch.max(outputs.data, 1)\n",
        "        total += labels.size(0)\n",
        "        correct += (predicted == labels).sum().item()\n",
        "\n",
        "    print('Test accuracy of the model on the 1024 test batched_graph: {} %'\n",
        "          .format(100 * correct / total))"
      ],
      "metadata": {
        "colab": {
          "base_uri": "https://localhost:8080/"
        },
        "id": "2ncj367fiKHW",
        "outputId": "780e1c95-01bd-48ea-8040-8f42bcc7ce13"
      },
      "execution_count": 28,
      "outputs": [
        {
          "output_type": "stream",
          "name": "stdout",
          "text": [
            "Test accuracy of the model on the 1024 test batched_graph: 95.64732142857143 %\n"
          ]
        }
      ]
    }
  ],
  "metadata": {
    "colab": {
      "collapsed_sections": [],
      "name": "DGL_graph_generate.ipynb",
      "provenance": [],
      "authorship_tag": "ABX9TyPpcvLNb/2b0bAOFz5c34e8",
      "include_colab_link": true
    },
    "kernelspec": {
      "display_name": "Python 3",
      "name": "python3"
    },
    "language_info": {
      "name": "python"
    },
    "accelerator": "GPU"
  },
  "nbformat": 4,
  "nbformat_minor": 0
}